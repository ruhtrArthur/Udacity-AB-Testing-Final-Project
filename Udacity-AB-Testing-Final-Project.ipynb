{
 "cells": [
  {
   "cell_type": "markdown",
   "metadata": {},
   "source": [
    "***\n",
    "This notebook is a walkthrough of Tammy Rotem's AB Testing With Python post on Kaggle.\n",
    "***"
   ]
  },
  {
   "cell_type": "code",
   "execution_count": 111,
   "metadata": {},
   "outputs": [],
   "source": [
    "import numpy as np\n",
    "import pandas as pd\n",
    "from scipy.stats import norm\n",
    "from scipy.special import factorial"
   ]
  },
  {
   "cell_type": "code",
   "execution_count": 41,
   "metadata": {},
   "outputs": [],
   "source": [
    "metric_tup = np.array([('unique cookies to view page per day:', 40000),\n",
    "('unique cookies to click \"Start free trial\" per day:', 3200),\n",
    "('enrollments per day:', 660),\n",
    "('click-through-probability on \"Start free trial\":', 0.08),\n",
    "('probability of enrolling, given click:', 0.20625),\n",
    "('probability of payment, given enroll:', 0.53),\n",
    "('probability of payment, given click:', 0.1093125)])"
   ]
  },
  {
   "cell_type": "code",
   "execution_count": 60,
   "metadata": {},
   "outputs": [
    {
     "data": {
      "text/html": [
       "<style  type=\"text/css\" >\n",
       "    #T_eba3ba48_98ca_11ea_951b_82da8d294401row0_col0 {\n",
       "            text-align:  left;\n",
       "        }    #T_eba3ba48_98ca_11ea_951b_82da8d294401row0_col1 {\n",
       "            text-align:  left;\n",
       "        }    #T_eba3ba48_98ca_11ea_951b_82da8d294401row1_col0 {\n",
       "            text-align:  left;\n",
       "        }    #T_eba3ba48_98ca_11ea_951b_82da8d294401row1_col1 {\n",
       "            text-align:  left;\n",
       "        }    #T_eba3ba48_98ca_11ea_951b_82da8d294401row2_col0 {\n",
       "            text-align:  left;\n",
       "        }    #T_eba3ba48_98ca_11ea_951b_82da8d294401row2_col1 {\n",
       "            text-align:  left;\n",
       "        }    #T_eba3ba48_98ca_11ea_951b_82da8d294401row3_col0 {\n",
       "            text-align:  left;\n",
       "        }    #T_eba3ba48_98ca_11ea_951b_82da8d294401row3_col1 {\n",
       "            text-align:  left;\n",
       "        }    #T_eba3ba48_98ca_11ea_951b_82da8d294401row4_col0 {\n",
       "            text-align:  left;\n",
       "        }    #T_eba3ba48_98ca_11ea_951b_82da8d294401row4_col1 {\n",
       "            text-align:  left;\n",
       "        }    #T_eba3ba48_98ca_11ea_951b_82da8d294401row5_col0 {\n",
       "            text-align:  left;\n",
       "        }    #T_eba3ba48_98ca_11ea_951b_82da8d294401row5_col1 {\n",
       "            text-align:  left;\n",
       "        }    #T_eba3ba48_98ca_11ea_951b_82da8d294401row6_col0 {\n",
       "            text-align:  left;\n",
       "        }    #T_eba3ba48_98ca_11ea_951b_82da8d294401row6_col1 {\n",
       "            text-align:  left;\n",
       "        }</style><table id=\"T_eba3ba48_98ca_11ea_951b_82da8d294401\" ><thead>    <tr>        <th class=\"blank level0\" ></th>        <th class=\"col_heading level0 col0\" ></th>        <th class=\"col_heading level0 col1\" >Baseline Value</th>    </tr></thead><tbody>\n",
       "                <tr>\n",
       "                        <th id=\"T_eba3ba48_98ca_11ea_951b_82da8d294401level0_row0\" class=\"row_heading level0 row0\" >0</th>\n",
       "                        <td id=\"T_eba3ba48_98ca_11ea_951b_82da8d294401row0_col0\" class=\"data row0 col0\" >unique cookies to view page per day:</td>\n",
       "                        <td id=\"T_eba3ba48_98ca_11ea_951b_82da8d294401row0_col1\" class=\"data row0 col1\" >40000</td>\n",
       "            </tr>\n",
       "            <tr>\n",
       "                        <th id=\"T_eba3ba48_98ca_11ea_951b_82da8d294401level0_row1\" class=\"row_heading level0 row1\" >1</th>\n",
       "                        <td id=\"T_eba3ba48_98ca_11ea_951b_82da8d294401row1_col0\" class=\"data row1 col0\" >unique cookies to click \"Start free trial\" per day:</td>\n",
       "                        <td id=\"T_eba3ba48_98ca_11ea_951b_82da8d294401row1_col1\" class=\"data row1 col1\" >3200</td>\n",
       "            </tr>\n",
       "            <tr>\n",
       "                        <th id=\"T_eba3ba48_98ca_11ea_951b_82da8d294401level0_row2\" class=\"row_heading level0 row2\" >2</th>\n",
       "                        <td id=\"T_eba3ba48_98ca_11ea_951b_82da8d294401row2_col0\" class=\"data row2 col0\" >enrollments per day:</td>\n",
       "                        <td id=\"T_eba3ba48_98ca_11ea_951b_82da8d294401row2_col1\" class=\"data row2 col1\" >660</td>\n",
       "            </tr>\n",
       "            <tr>\n",
       "                        <th id=\"T_eba3ba48_98ca_11ea_951b_82da8d294401level0_row3\" class=\"row_heading level0 row3\" >3</th>\n",
       "                        <td id=\"T_eba3ba48_98ca_11ea_951b_82da8d294401row3_col0\" class=\"data row3 col0\" >click-through-probability on \"Start free trial\":</td>\n",
       "                        <td id=\"T_eba3ba48_98ca_11ea_951b_82da8d294401row3_col1\" class=\"data row3 col1\" >0.08</td>\n",
       "            </tr>\n",
       "            <tr>\n",
       "                        <th id=\"T_eba3ba48_98ca_11ea_951b_82da8d294401level0_row4\" class=\"row_heading level0 row4\" >4</th>\n",
       "                        <td id=\"T_eba3ba48_98ca_11ea_951b_82da8d294401row4_col0\" class=\"data row4 col0\" >probability of enrolling, given click:</td>\n",
       "                        <td id=\"T_eba3ba48_98ca_11ea_951b_82da8d294401row4_col1\" class=\"data row4 col1\" >0.20625</td>\n",
       "            </tr>\n",
       "            <tr>\n",
       "                        <th id=\"T_eba3ba48_98ca_11ea_951b_82da8d294401level0_row5\" class=\"row_heading level0 row5\" >5</th>\n",
       "                        <td id=\"T_eba3ba48_98ca_11ea_951b_82da8d294401row5_col0\" class=\"data row5 col0\" >probability of payment, given enroll:</td>\n",
       "                        <td id=\"T_eba3ba48_98ca_11ea_951b_82da8d294401row5_col1\" class=\"data row5 col1\" >0.53</td>\n",
       "            </tr>\n",
       "            <tr>\n",
       "                        <th id=\"T_eba3ba48_98ca_11ea_951b_82da8d294401level0_row6\" class=\"row_heading level0 row6\" >6</th>\n",
       "                        <td id=\"T_eba3ba48_98ca_11ea_951b_82da8d294401row6_col0\" class=\"data row6 col0\" >probability of payment, given click:</td>\n",
       "                        <td id=\"T_eba3ba48_98ca_11ea_951b_82da8d294401row6_col1\" class=\"data row6 col1\" >0.1093125</td>\n",
       "            </tr>\n",
       "    </tbody></table>"
      ],
      "text/plain": [
       "<pandas.io.formats.style.Styler at 0x1a26421240>"
      ]
     },
     "execution_count": 60,
     "metadata": {},
     "output_type": "execute_result"
    }
   ],
   "source": [
    "df = pd.DataFrame(metric_tup, columns = ['', 'Baseline Value'])\n",
    "df = df.style.set_properties(**{'text-align': 'left'})\n",
    "df"
   ]
  },
  {
   "cell_type": "code",
   "execution_count": 5,
   "metadata": {},
   "outputs": [],
   "source": [
    "baseline = {\"Cookies\":40000,\"Clicks\":3200,\"Enrollments\":660,\"CTP\":0.08,\"GConversion\":0.20625,\n",
    "           \"Retention\":0.53,\"NConversion\":0.109313}"
   ]
  },
  {
   "cell_type": "code",
   "execution_count": 6,
   "metadata": {},
   "outputs": [
    {
     "data": {
      "text/plain": [
       "{'Cookies': 5000,\n",
       " 'Clicks': 400.0,\n",
       " 'Enrollments': 82.5,\n",
       " 'CTP': 0.08,\n",
       " 'GConversion': 0.20625,\n",
       " 'Retention': 0.53,\n",
       " 'NConversion': 0.109313}"
      ]
     },
     "execution_count": 6,
     "metadata": {},
     "output_type": "execute_result"
    }
   ],
   "source": [
    "# scaling sample size to 5000 for variance estimation\n",
    "baseline['Cookies'] = 5000\n",
    "baseline['Clicks'] = baseline['Clicks']*5000/40000\n",
    "baseline['Enrollments'] = baseline['Enrollments']*5000/40000\n",
    "baseline"
   ]
  },
  {
   "cell_type": "markdown",
   "metadata": {},
   "source": [
    "#### Gross Conversion"
   ]
  },
  {
   "cell_type": "code",
   "execution_count": 7,
   "metadata": {},
   "outputs": [
    {
     "data": {
      "text/plain": [
       "0.0202"
      ]
     },
     "execution_count": 7,
     "metadata": {},
     "output_type": "execute_result"
    }
   ],
   "source": [
    "gross_conversion = {}\n",
    "gross_conversion[\"d_min\"] = 0.01\n",
    "gross_conversion[\"p\"] = baseline[\"GConversion\"]\n",
    "gross_conversion[\"n\"] = baseline[\"Clicks\"]\n",
    "gross_conversion[\"sd\"] = round(np.sqrt(\n",
    "    (gross_conversion[\"p\"]*(1-gross_conversion[\"p\"]))/gross_conversion[\"n\"]), 4)\n",
    "gross_conversion['sd']"
   ]
  },
  {
   "cell_type": "markdown",
   "metadata": {},
   "source": [
    "#### Retention"
   ]
  },
  {
   "cell_type": "code",
   "execution_count": 8,
   "metadata": {},
   "outputs": [
    {
     "data": {
      "text/plain": [
       "0.0549"
      ]
     },
     "execution_count": 8,
     "metadata": {},
     "output_type": "execute_result"
    }
   ],
   "source": [
    "retention = {}\n",
    "retention[\"d_min\"] = 0.01\n",
    "retention[\"p\"] = baseline[\"Retention\"]\n",
    "retention[\"n\"] = baseline[\"Enrollments\"]\n",
    "retention[\"sd\"] = round(np.sqrt((retention[\"p\"]*(1-retention[\"p\"]))/retention[\"n\"]), 4)\n",
    "retention[\"sd\"]"
   ]
  },
  {
   "cell_type": "markdown",
   "metadata": {},
   "source": [
    "#### Net Conversion "
   ]
  },
  {
   "cell_type": "code",
   "execution_count": 99,
   "metadata": {},
   "outputs": [
    {
     "data": {
      "text/plain": [
       "0.0156"
      ]
     },
     "execution_count": 99,
     "metadata": {},
     "output_type": "execute_result"
    }
   ],
   "source": [
    "net_conversion = {}\n",
    "net_conversion[\"d_min\"] = 0.01\n",
    "net_conversion[\"p\"] = baseline[\"NConversion\"]\n",
    "net_conversion[\"n\"] = baseline[\"Clicks\"]\n",
    "net_conversion[\"sd\"] = round(np.sqrt(\n",
    "    (net_conversion[\"p\"]*(1-net_conversion[\"p\"]))/net_conversion[\"n\"]), 4)\n",
    "net_conversion['sd']"
   ]
  },
  {
   "cell_type": "code",
   "execution_count": 143,
   "metadata": {},
   "outputs": [],
   "source": [
    "def calculate_std(p, d):\n",
    "    std1 = np.sqrt(2*p*(1-p))\n",
    "    std2 = np.sqrt(p*(1-p)+(p+d)*(1-(p+d)))\n",
    "    std = [std1, std2]\n",
    "    return std\n",
    "\n",
    "def calculate_z_score(alpha):\n",
    "    return norm.ppf(alpha)\n",
    "\n",
    "def calculate_sample_size(std, alpha, beta, d):\n",
    "    n = pow(calculate_z_score(1-alpha/2)*std[0]+calculate_z_score(1-beta)*std[1], 2)/pow(d, 2)\n",
    "    return n\n",
    "\n",
    "def calculate_probability(x, n):\n",
    "    return round((factorial(n)/(factorial(x)*factorial(n-x)))*(0.5**x)*(0.5**(n-x)), 4)\n",
    "\n",
    "def calculate_two_side_p(x, n):\n",
    "    p = 0 \n",
    "    for i in range(0, x+1):\n",
    "        p = p + calculate_probability(i, n)\n",
    "    return 2*p"
   ]
  },
  {
   "cell_type": "code",
   "execution_count": 101,
   "metadata": {},
   "outputs": [],
   "source": [
    "gross_conversion['d'] = 0.01\n",
    "retention['d'] = 0.01\n",
    "net_conversion['d'] = 0.0075"
   ]
  },
  {
   "cell_type": "code",
   "execution_count": 25,
   "metadata": {},
   "outputs": [
    {
     "data": {
      "text/plain": [
       "645875.0"
      ]
     },
     "execution_count": 25,
     "metadata": {},
     "output_type": "execute_result"
    }
   ],
   "source": [
    "gross_conversion['sample_size'] = round(calculate_sample_size(calculate_std(\n",
    "    gross_conversion['p'], gross_conversion['d']), 0.05, 0.2, gross_conversion['d']))\n",
    "gross_conversion['sample_size'] = round(\n",
    "    ((gross_conversion['sample_size']/0.08)*2))\n",
    "gross_conversion['sample_size']"
   ]
  },
  {
   "cell_type": "code",
   "execution_count": 70,
   "metadata": {},
   "outputs": [
    {
     "data": {
      "text/plain": [
       "4737818.0"
      ]
     },
     "execution_count": 70,
     "metadata": {},
     "output_type": "execute_result"
    }
   ],
   "source": [
    "retention['sample_size'] = round(calculate_sample_size(\n",
    "    calculate_std(retention['p'], retention['d']), 0.05, 0.2, retention['d']))\n",
    "retention['sample_size'] = round(((retention['sample_size']/0.20625/0.08*2)))\n",
    "retention['sample_size']"
   ]
  },
  {
   "cell_type": "code",
   "execution_count": 71,
   "metadata": {},
   "outputs": [
    {
     "data": {
      "text/plain": [
       "685325.0"
      ]
     },
     "execution_count": 71,
     "metadata": {},
     "output_type": "execute_result"
    }
   ],
   "source": [
    "net_conversion['sample_size'] = round(calculate_sample_size(calculate_std(\n",
    "    net_conversion['p'], net_conversion['d']), 0.05, 0.2, net_conversion['d']))\n",
    "net_conversion['sample_size'] = round(\n",
    "    ((net_conversion['sample_size']/0.08)*2))\n",
    "net_conversion['sample_size']"
   ]
  },
  {
   "cell_type": "markdown",
   "metadata": {},
   "source": [
    "### Analyze Collected Data"
   ]
  },
  {
   "cell_type": "code",
   "execution_count": 72,
   "metadata": {},
   "outputs": [
    {
     "data": {
      "text/html": [
       "<div>\n",
       "<style scoped>\n",
       "    .dataframe tbody tr th:only-of-type {\n",
       "        vertical-align: middle;\n",
       "    }\n",
       "\n",
       "    .dataframe tbody tr th {\n",
       "        vertical-align: top;\n",
       "    }\n",
       "\n",
       "    .dataframe thead th {\n",
       "        text-align: right;\n",
       "    }\n",
       "</style>\n",
       "<table border=\"1\" class=\"dataframe\">\n",
       "  <thead>\n",
       "    <tr style=\"text-align: right;\">\n",
       "      <th></th>\n",
       "      <th>Date</th>\n",
       "      <th>Pageviews</th>\n",
       "      <th>Clicks</th>\n",
       "      <th>Enrollments</th>\n",
       "      <th>Payments</th>\n",
       "    </tr>\n",
       "  </thead>\n",
       "  <tbody>\n",
       "    <tr>\n",
       "      <th>0</th>\n",
       "      <td>Sat, Oct 11</td>\n",
       "      <td>7723</td>\n",
       "      <td>687</td>\n",
       "      <td>134.0</td>\n",
       "      <td>70.0</td>\n",
       "    </tr>\n",
       "    <tr>\n",
       "      <th>1</th>\n",
       "      <td>Sun, Oct 12</td>\n",
       "      <td>9102</td>\n",
       "      <td>779</td>\n",
       "      <td>147.0</td>\n",
       "      <td>70.0</td>\n",
       "    </tr>\n",
       "    <tr>\n",
       "      <th>2</th>\n",
       "      <td>Mon, Oct 13</td>\n",
       "      <td>10511</td>\n",
       "      <td>909</td>\n",
       "      <td>167.0</td>\n",
       "      <td>95.0</td>\n",
       "    </tr>\n",
       "    <tr>\n",
       "      <th>3</th>\n",
       "      <td>Tue, Oct 14</td>\n",
       "      <td>9871</td>\n",
       "      <td>836</td>\n",
       "      <td>156.0</td>\n",
       "      <td>105.0</td>\n",
       "    </tr>\n",
       "    <tr>\n",
       "      <th>4</th>\n",
       "      <td>Wed, Oct 15</td>\n",
       "      <td>10014</td>\n",
       "      <td>837</td>\n",
       "      <td>163.0</td>\n",
       "      <td>64.0</td>\n",
       "    </tr>\n",
       "  </tbody>\n",
       "</table>\n",
       "</div>"
      ],
      "text/plain": [
       "          Date  Pageviews  Clicks  Enrollments  Payments\n",
       "0  Sat, Oct 11       7723     687        134.0      70.0\n",
       "1  Sun, Oct 12       9102     779        147.0      70.0\n",
       "2  Mon, Oct 13      10511     909        167.0      95.0\n",
       "3  Tue, Oct 14       9871     836        156.0     105.0\n",
       "4  Wed, Oct 15      10014     837        163.0      64.0"
      ]
     },
     "execution_count": 72,
     "metadata": {},
     "output_type": "execute_result"
    }
   ],
   "source": [
    "control = pd.read_csv(\"control_data.csv\")\n",
    "experiment = pd.read_csv(\"experiment_data.csv\")\n",
    "control.head()"
   ]
  },
  {
   "cell_type": "markdown",
   "metadata": {},
   "source": [
    "#### Sanity Check"
   ]
  },
  {
   "cell_type": "code",
   "execution_count": 74,
   "metadata": {},
   "outputs": [
    {
     "name": "stdout",
     "output_type": "stream",
     "text": [
      "number of pageviews in control: 345543\n",
      "number of pageviews in experiment: 344660\n"
     ]
    }
   ],
   "source": [
    "pageview_control = control['Pageviews'].sum()\n",
    "pageview_experiment = experiment['Pageviews'].sum()\n",
    "pageview_total = pageview_control + pageview_experiment \n",
    "print(\"number of pageviews in control:\", pageview_control)\n",
    "print(\"number of pageviews in experiment:\", pageview_experiment)"
   ]
  },
  {
   "cell_type": "code",
   "execution_count": 88,
   "metadata": {},
   "outputs": [
    {
     "name": "stdout",
     "output_type": "stream",
     "text": [
      "The confidence interval is between 0.4988 and 0.5012\n",
      "According to our calculation,  0.5006 is in this range\n"
     ]
    }
   ],
   "source": [
    "p = 0.5\n",
    "alpha = 0.05\n",
    "p_hat = round(pageview_control/pageview_total, 4)\n",
    "std = np.sqrt(p*(1-p)/pageview_total)\n",
    "margin_of_error = round(calculate_z_score((1-(alpha/2)))*std, 4)\n",
    "print (\"The confidence interval is between\",p-margin_of_error,\"and\",p+margin_of_error)\n",
    "print(\"According to our calculation, \", p_hat, \"is in this range\")"
   ]
  },
  {
   "cell_type": "code",
   "execution_count": 87,
   "metadata": {},
   "outputs": [
    {
     "name": "stdout",
     "output_type": "stream",
     "text": [
      "The confidence interval is between 0.4959 and 0.5041\n",
      "According to our calculation,  0.5005 is in this range\n"
     ]
    }
   ],
   "source": [
    "click_control = control['Clicks'].sum()\n",
    "click_experiment = experiment['Clicks'].sum()\n",
    "click_total = click_control + click_experiment\n",
    "\n",
    "p_hat = round((click_control/click_total), 4)\n",
    "std = np.sqrt(p*(1-p)/click_total)\n",
    "margin_of_error = round(calculate_z_score((1-(alpha/2)))*std, 4)\n",
    "print (\"The confidence interval is between\",p-margin_of_error,\"and\",p+margin_of_error)\n",
    "print(\"According to our calculation, \", p_hat, \"is in this range\")"
   ]
  },
  {
   "cell_type": "code",
   "execution_count": 91,
   "metadata": {},
   "outputs": [
    {
     "name": "stdout",
     "output_type": "stream",
     "text": [
      "The confidence interval is between -0.0013 and 0.0013\n",
      "According to our calculation,  0.0001 is in this range\n"
     ]
    }
   ],
   "source": [
    "ctp_control = click_control/pageview_control\n",
    "ctp_experiment = click_experiment/pageview_experiment\n",
    "d_hat = round(ctp_experiment-ctp_control, 4)\n",
    "p_pooled = click_total/pageview_total\n",
    "std_pooled = np.sqrt(p_pooled*(1-p_pooled) *\n",
    "                     (1/pageview_control+1/pageview_experiment))\n",
    "margin_of_error = round(calculate_z_score(1-(alpha/2))*std_pooled, 4)\n",
    "print (\"The confidence interval is between\",0-margin_of_error,\"and\",0+margin_of_error)\n",
    "print(\"According to our calculation, \", d_hat, \"is in this range\")"
   ]
  },
  {
   "cell_type": "markdown",
   "metadata": {},
   "source": [
    "#### Examine Effect Size "
   ]
  },
  {
   "cell_type": "code",
   "execution_count": 92,
   "metadata": {},
   "outputs": [
    {
     "name": "stdout",
     "output_type": "stream",
     "text": [
      "The change due to the experiment is -2.06 %\n",
      "Confidence Interval: [ -0.0292 , -0.012 ]\n",
      "The change is statistically significant if the CI doesn't include 0. In that case, it is practically significant if -0.01 is not in the CI as well.\n"
     ]
    }
   ],
   "source": [
    "click_control = control['Clicks'].loc[control['Enrollments'].notnull()].sum()\n",
    "click_experiment = experiment['Clicks'].loc[experiment['Enrollments'].notnull(\n",
    ")].sum()\n",
    "enroll_control = control['Enrollments'].sum()\n",
    "enroll_experiment = experiment['Enrollments'].sum()\n",
    "\n",
    "gross_control = enroll_control/click_control\n",
    "gross_experiment = enroll_experiment/click_experiment\n",
    "gross_pooled = (enroll_control + enroll_experiment) / \\\n",
    "    (click_control + click_experiment)\n",
    "gross_std_pooled = np.sqrt(\n",
    "    gross_pooled*(1-gross_pooled)*(1/click_control + 1/click_experiment))\n",
    "gross_me = round(calculate_z_score(1-(alpha/2))*gross_std_pooled, 4)\n",
    "gross_diff = round(gross_experiment-gross_control, 4)\n",
    "print(\"The change due to the experiment is\", gross_diff*100, \"%\")\n",
    "print(\"Confidence Interval: [\",gross_diff-gross_me, \",\", gross_diff+gross_me, \"]\")\n",
    "print(\"The change is statistically significant if the CI doesn't include 0. In that case, it is practically significant if\", -\n",
    "      gross_conversion[\"d_min\"], \"is not in the CI as well.\")"
   ]
  },
  {
   "cell_type": "code",
   "execution_count": 102,
   "metadata": {},
   "outputs": [
    {
     "name": "stdout",
     "output_type": "stream",
     "text": [
      "The change due to the experiment is -0.49 %\n",
      "Confidence Interval: [ -0.0116 , 0.0018000000000000004 ]\n",
      "The change is statistically significant if the CI doesn't include 0. In that case, it is practically significant if -0.0075 is not in the CI as well.\n"
     ]
    }
   ],
   "source": [
    "payment_control = control['Payments'].sum()\n",
    "payment_experiment = experiment['Payments'].sum()\n",
    "\n",
    "net_control = payment_control/click_control\n",
    "net_experiment = payment_experiment/click_experiment\n",
    "net_pooled = (payment_control + payment_experiment) / \\\n",
    "    (click_control + click_experiment)\n",
    "net_std_pooled = np.sqrt(\n",
    "    net_pooled*(1-net_pooled)*(1/click_control + 1/click_experiment))\n",
    "net_me = round(calculate_z_score(1-(alpha/2))*net_std_pooled, 4)\n",
    "net_diff = round(net_experiment-net_control, 4)\n",
    "print(\"The change due to the experiment is\", net_diff*100, \"%\")\n",
    "print(\"Confidence Interval: [\",net_diff-net_me, \",\", net_diff+net_me, \"]\")\n",
    "print(\"The change is statistically significant if the CI doesn't include 0. In that case, it is practically significant if\", -\n",
    "      net_conversion[\"d\"], \"is not in the CI as well.\")"
   ]
  },
  {
   "cell_type": "markdown",
   "metadata": {},
   "source": [
    "#### Sign Test"
   ]
  },
  {
   "cell_type": "code",
   "execution_count": 103,
   "metadata": {},
   "outputs": [
    {
     "data": {
      "text/plain": [
       "Date_cont           37\n",
       "Pageviews_cont      37\n",
       "Clicks_cont         37\n",
       "Enrollments_cont    23\n",
       "Payments_cont       23\n",
       "Date_exp            37\n",
       "Pageviews_exp       37\n",
       "Clicks_exp          37\n",
       "Enrollments_exp     23\n",
       "Payments_exp        23\n",
       "dtype: int64"
      ]
     },
     "execution_count": 103,
     "metadata": {},
     "output_type": "execute_result"
    }
   ],
   "source": [
    "full = control.join(other=experiment, how='inner', lsuffix='_cont', rsuffix='_exp')\n",
    "full.count()"
   ]
  },
  {
   "cell_type": "code",
   "execution_count": 106,
   "metadata": {},
   "outputs": [
    {
     "data": {
      "text/plain": [
       "Date_cont           23\n",
       "Pageviews_cont      23\n",
       "Clicks_cont         23\n",
       "Enrollments_cont    23\n",
       "Payments_cont       23\n",
       "Date_exp            23\n",
       "Pageviews_exp       23\n",
       "Clicks_exp          23\n",
       "Enrollments_exp     23\n",
       "Payments_exp        23\n",
       "dtype: int64"
      ]
     },
     "execution_count": 106,
     "metadata": {},
     "output_type": "execute_result"
    }
   ],
   "source": [
    "full = full.loc[full['Enrollments_cont'].notnull()]\n",
    "full.count()"
   ]
  },
  {
   "cell_type": "code",
   "execution_count": 144,
   "metadata": {},
   "outputs": [
    {
     "data": {
      "text/html": [
       "<div>\n",
       "<style scoped>\n",
       "    .dataframe tbody tr th:only-of-type {\n",
       "        vertical-align: middle;\n",
       "    }\n",
       "\n",
       "    .dataframe tbody tr th {\n",
       "        vertical-align: top;\n",
       "    }\n",
       "\n",
       "    .dataframe thead th {\n",
       "        text-align: right;\n",
       "    }\n",
       "</style>\n",
       "<table border=\"1\" class=\"dataframe\">\n",
       "  <thead>\n",
       "    <tr style=\"text-align: right;\">\n",
       "      <th></th>\n",
       "      <th>Date_cont</th>\n",
       "      <th>Pageviews_cont</th>\n",
       "      <th>Clicks_cont</th>\n",
       "      <th>Enrollments_cont</th>\n",
       "      <th>Payments_cont</th>\n",
       "      <th>Date_exp</th>\n",
       "      <th>Pageviews_exp</th>\n",
       "      <th>Clicks_exp</th>\n",
       "      <th>Enrollments_exp</th>\n",
       "      <th>Payments_exp</th>\n",
       "      <th>gross_conversion</th>\n",
       "      <th>net_conversion</th>\n",
       "    </tr>\n",
       "  </thead>\n",
       "  <tbody>\n",
       "    <tr>\n",
       "      <th>0</th>\n",
       "      <td>Sat, Oct 11</td>\n",
       "      <td>7723</td>\n",
       "      <td>687</td>\n",
       "      <td>134.0</td>\n",
       "      <td>70.0</td>\n",
       "      <td>Sat, Oct 11</td>\n",
       "      <td>7716</td>\n",
       "      <td>686</td>\n",
       "      <td>105.0</td>\n",
       "      <td>34.0</td>\n",
       "      <td>0</td>\n",
       "      <td>0</td>\n",
       "    </tr>\n",
       "    <tr>\n",
       "      <th>1</th>\n",
       "      <td>Sun, Oct 12</td>\n",
       "      <td>9102</td>\n",
       "      <td>779</td>\n",
       "      <td>147.0</td>\n",
       "      <td>70.0</td>\n",
       "      <td>Sun, Oct 12</td>\n",
       "      <td>9288</td>\n",
       "      <td>785</td>\n",
       "      <td>116.0</td>\n",
       "      <td>91.0</td>\n",
       "      <td>0</td>\n",
       "      <td>1</td>\n",
       "    </tr>\n",
       "    <tr>\n",
       "      <th>2</th>\n",
       "      <td>Mon, Oct 13</td>\n",
       "      <td>10511</td>\n",
       "      <td>909</td>\n",
       "      <td>167.0</td>\n",
       "      <td>95.0</td>\n",
       "      <td>Mon, Oct 13</td>\n",
       "      <td>10480</td>\n",
       "      <td>884</td>\n",
       "      <td>145.0</td>\n",
       "      <td>79.0</td>\n",
       "      <td>0</td>\n",
       "      <td>0</td>\n",
       "    </tr>\n",
       "    <tr>\n",
       "      <th>3</th>\n",
       "      <td>Tue, Oct 14</td>\n",
       "      <td>9871</td>\n",
       "      <td>836</td>\n",
       "      <td>156.0</td>\n",
       "      <td>105.0</td>\n",
       "      <td>Tue, Oct 14</td>\n",
       "      <td>9867</td>\n",
       "      <td>827</td>\n",
       "      <td>138.0</td>\n",
       "      <td>92.0</td>\n",
       "      <td>0</td>\n",
       "      <td>0</td>\n",
       "    </tr>\n",
       "    <tr>\n",
       "      <th>4</th>\n",
       "      <td>Wed, Oct 15</td>\n",
       "      <td>10014</td>\n",
       "      <td>837</td>\n",
       "      <td>163.0</td>\n",
       "      <td>64.0</td>\n",
       "      <td>Wed, Oct 15</td>\n",
       "      <td>9793</td>\n",
       "      <td>832</td>\n",
       "      <td>140.0</td>\n",
       "      <td>94.0</td>\n",
       "      <td>0</td>\n",
       "      <td>1</td>\n",
       "    </tr>\n",
       "  </tbody>\n",
       "</table>\n",
       "</div>"
      ],
      "text/plain": [
       "     Date_cont  Pageviews_cont  Clicks_cont  Enrollments_cont  Payments_cont  \\\n",
       "0  Sat, Oct 11            7723          687             134.0           70.0   \n",
       "1  Sun, Oct 12            9102          779             147.0           70.0   \n",
       "2  Mon, Oct 13           10511          909             167.0           95.0   \n",
       "3  Tue, Oct 14            9871          836             156.0          105.0   \n",
       "4  Wed, Oct 15           10014          837             163.0           64.0   \n",
       "\n",
       "      Date_exp  Pageviews_exp  Clicks_exp  Enrollments_exp  Payments_exp  \\\n",
       "0  Sat, Oct 11           7716         686            105.0          34.0   \n",
       "1  Sun, Oct 12           9288         785            116.0          91.0   \n",
       "2  Mon, Oct 13          10480         884            145.0          79.0   \n",
       "3  Tue, Oct 14           9867         827            138.0          92.0   \n",
       "4  Wed, Oct 15           9793         832            140.0          94.0   \n",
       "\n",
       "   gross_conversion  net_conversion  \n",
       "0                 0               0  \n",
       "1                 0               1  \n",
       "2                 0               0  \n",
       "3                 0               0  \n",
       "4                 0               1  "
      ]
     },
     "execution_count": 144,
     "metadata": {},
     "output_type": "execute_result"
    }
   ],
   "source": [
    "x = full['Enrollments_cont']/full['Clicks_cont']\n",
    "y = full['Enrollments_exp']/full['Clicks_exp']\n",
    "full['gross_conversion'] = np.where(x<y,1,0)\n",
    "\n",
    "a = full['Payments_cont']/full['Clicks_cont']\n",
    "b = full['Payments_exp']/full['Clicks_exp']\n",
    "full['net_conversion'] = np.where(a<b,1,0)\n",
    "full.head()"
   ]
  },
  {
   "cell_type": "code",
   "execution_count": 145,
   "metadata": {},
   "outputs": [
    {
     "name": "stdout",
     "output_type": "stream",
     "text": [
      "No. of cases for gross conversion: 4\n",
      "No. of cases for net conversion: 10\n",
      "No. of total cases 23\n"
     ]
    }
   ],
   "source": [
    "gross_conversion_count = full['gross_conversion'][full['gross_conversion']==1].count()\n",
    "net_conversion_count = full['net_conversion'][full['net_conversion']==1].count()\n",
    "n = full['net_conversion'].count()\n",
    "print(\"No. of cases for gross conversion:\",gross_conversion_count)\n",
    "print(\"No. of cases for net conversion:\",net_conversion_count)\n",
    "print(\"No. of total cases\", n)"
   ]
  },
  {
   "cell_type": "markdown",
   "metadata": {},
   "source": [
    "***\n",
    "Step 1. Set up hypotheses and determine level of significance.\n",
    "\n",
    "H0: The median difference is zero versus\n",
    "H1: The median difference is not zero α = 0.05\n",
    "\n",
    "Step 2. Select the appropriate test statistic.\n",
    "The test statistic for the Sign Test is the smaller of the number of positive or negative signs.\n",
    "\n",
    "Step 3. Set up the decision rule.\n",
    "The appropriate critical value for the Sign Test can be found in the table of critical values for the Sign Test. To determine the appropriate critical value we need the sample size, and our two-sided level of significance α = 0.05.\n",
    "\n",
    "Step 4. Compute the test statistic.\n",
    "***"
   ]
  },
  {
   "cell_type": "code",
   "execution_count": 148,
   "metadata": {},
   "outputs": [
    {
     "name": "stdout",
     "output_type": "stream",
     "text": [
      "Gross conversion Change is significant if 0.0026 is smaller than 0.05\n",
      "Net conversion Change is insignificant because 0.6774 is larger than 0.05\n"
     ]
    }
   ],
   "source": [
    "print(\"Gross conversion Change is significant if\", round(\n",
    "    calculate_two_side_p(gross_conversion_count, n), 4), \"is smaller than 0.05\")\n",
    "print(\"Net conversion Change is insignificant because\", round(\n",
    "    calculate_two_side_p(net_conversion_count, n), 4), \"is larger than 0.05\")"
   ]
  },
  {
   "cell_type": "markdown",
   "metadata": {},
   "source": [
    "The change in gross conversion is significant, while the change in net conversion is not. We recommend not to initiate the change since it is only significant for the gross conversion.\n"
   ]
  },
  {
   "cell_type": "markdown",
   "metadata": {},
   "source": [
    "#### Reference\n",
    "https://www.kaggle.com/tammyrotem/ab-tests-with-python/data\n",
    "http://sphweb.bumc.bu.edu/otlt/mph-modules/bs/bs704_nonparametric/BS704_Nonparametric5.html"
   ]
  },
  {
   "cell_type": "code",
   "execution_count": null,
   "metadata": {},
   "outputs": [],
   "source": []
  }
 ],
 "metadata": {
  "kernelspec": {
   "display_name": "Python 3",
   "language": "python",
   "name": "python3"
  },
  "language_info": {
   "codemirror_mode": {
    "name": "ipython",
    "version": 3
   },
   "file_extension": ".py",
   "mimetype": "text/x-python",
   "name": "python",
   "nbconvert_exporter": "python",
   "pygments_lexer": "ipython3",
   "version": "3.7.3"
  },
  "varInspector": {
   "cols": {
    "lenName": 16,
    "lenType": 16,
    "lenVar": 40
   },
   "kernels_config": {
    "python": {
     "delete_cmd_postfix": "",
     "delete_cmd_prefix": "del ",
     "library": "var_list.py",
     "varRefreshCmd": "print(var_dic_list())"
    },
    "r": {
     "delete_cmd_postfix": ") ",
     "delete_cmd_prefix": "rm(",
     "library": "var_list.r",
     "varRefreshCmd": "cat(var_dic_list()) "
    }
   },
   "types_to_exclude": [
    "module",
    "function",
    "builtin_function_or_method",
    "instance",
    "_Feature"
   ],
   "window_display": false
  }
 },
 "nbformat": 4,
 "nbformat_minor": 2
}
